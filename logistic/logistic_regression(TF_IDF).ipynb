{
  "nbformat": 4,
  "nbformat_minor": 0,
  "metadata": {
    "colab": {
      "provenance": []
    },
    "kernelspec": {
      "name": "python3",
      "display_name": "Python 3"
    },
    "language_info": {
      "name": "python"
    }
  },
  "cells": [
    {
      "cell_type": "code",
      "execution_count": null,
      "metadata": {
        "colab": {
          "base_uri": "https://localhost:8080/"
        },
        "id": "UyHsxF3Sy-Bk",
        "outputId": "07084be4-7cf4-4943-eef5-bfece26ff422"
      },
      "outputs": [
        {
          "output_type": "stream",
          "name": "stdout",
          "text": [
            "Accuracy: 0.8490\n",
            "              precision    recall  f1-score   support\n",
            "\n",
            "           0       0.82      0.88      0.85       492\n",
            "           1       0.89      0.84      0.87       400\n",
            "           2       0.85      0.81      0.83       366\n",
            "\n",
            "    accuracy                           0.85      1258\n",
            "   macro avg       0.85      0.85      0.85      1258\n",
            "weighted avg       0.85      0.85      0.85      1258\n",
            "\n"
          ]
        }
      ],
      "source": [
        "import pandas as pd\n",
        "import re\n",
        "from sklearn.feature_extraction.text import TfidfVectorizer\n",
        "from sklearn.model_selection import train_test_split\n",
        "from sklearn.linear_model import LogisticRegression\n",
        "from sklearn.metrics import accuracy_score, classification_report\n",
        "\n",
        "# Load the dataset\n",
        "df = pd.read_excel('/content/myFinalDataset(edited version).xlsx')\n",
        "\n",
        "# Remove rows with NaN labels\n",
        "df = df.dropna(subset=['label'])\n",
        "\n",
        "# Ensure labels are integers\n",
        "df['label'] = df['label'].astype(int)\n",
        "\n",
        "# Define Bengali stop words\n",
        "bengali_stop_words = {'আমি', 'তুমি', 'সে', 'আমাদের', 'তোমাদের', 'করে', 'তা', 'কিছু', 'কিছুই', 'এই', 'যে', 'এক',\n",
        "                      'এটা', 'এ', 'হয়', 'কি', 'ও', 'এবং', 'করতে', 'হয়ে', 'থেকে', 'হয়েছে', 'হয়েছিল', 'থাকে',\n",
        "                      'থাকা', 'যায়', 'যা', 'নিয়ে', 'না', 'বলে', 'এমন', 'করা', 'জন্য', 'মাধ্যমে', 'কিন্তু', 'আপনি', 'আমার', 'তার', 'এখন',\n",
        "                      'সঙ্গে', 'তারা', 'করছে', 'এইটা', 'তাদের', 'সেটা', 'সম্পর্কে', 'হতে', 'যেতে', 'সেখান', 'সেটি', 'তারেকে', 'এইচেসে', 'করবেন',\n",
        "                      'অন্য', 'অন্যান্য', 'বার', 'বা', 'প্রায়', 'আবার', 'আগে', 'এস', 'আগেই', 'যেমন', 'হলে', 'এটি', 'মাত্র', 'কিছুদিন', 'তাহলে',\n",
        "                      'সেও', 'কেউ', 'মোটামুটি', 'হলো', 'জানা', 'হচ্ছে', 'সব', 'আসে', 'কয়েক', 'বেশি', 'সমস্ত', 'মোটেই', 'যান', 'সহ', 'তিনি',\n",
        "                      'অথবা', 'যদি', 'দিয়ে', 'আবার', 'পারে', 'কারণ', 'কম', 'হল', 'হলেও', 'কেন', 'বাংলা', 'এখানে', 'কোনো', 'পরে', 'গেল',\n",
        "                      'সেই', 'দেখা', 'হয়েছে', 'হলেই', 'এসে', 'বিশেষ', 'ওঁরা', 'করি', 'মোট', 'হতেই', 'চেয়ে', 'সম্প্রতি'\n",
        "}\n",
        "# Preprocess the text data\n",
        "def preprocess_text(text):\n",
        "    # Remove non-Bengali characters and numbers\n",
        "    text = re.sub(r'[^\\u0980-\\u09FF\\s]', '', text)\n",
        "\n",
        "    # Remove punctuation\n",
        "    text = re.sub(r'[^\\w\\s]', '', text)\n",
        "\n",
        "    # Tokenize the text using space\n",
        "    tokens = text.split()\n",
        "\n",
        "    # Remove stop words\n",
        "    tokens = [word for word in tokens if word not in bengali_stop_words]\n",
        "\n",
        "    # Join the tokens back into text\n",
        "    text = ' '.join(tokens)\n",
        "\n",
        "    return text\n",
        "\n",
        "# Apply preprocessing to the text column\n",
        "df['text'] = df['text'].apply(preprocess_text)\n",
        "\n",
        "# Extract the texts and labels\n",
        "texts = df['text'].tolist()\n",
        "labels = df['label'].tolist()\n",
        "\n",
        "# Split the dataset into training and test sets\n",
        "train_texts, test_texts, train_labels, test_labels = train_test_split(texts, labels, test_size=0.2, random_state=42)\n",
        "\n",
        "# Vectorize the texts using TF-IDF\n",
        "vectorizer = TfidfVectorizer(max_features=3000)#9000\n",
        "X_train = vectorizer.fit_transform(train_texts)\n",
        "X_test = vectorizer.transform(test_texts)\n",
        "\n",
        "# Train a Logistic Regression model\n",
        "model = LogisticRegression(max_iter=100)#4500\n",
        "model.fit(X_train, train_labels)\n",
        "\n",
        "# Evaluate the model\n",
        "predictions = model.predict(X_test)\n",
        "accuracy = accuracy_score(test_labels, predictions)\n",
        "print(f'Accuracy: {accuracy:.4f}')\n",
        "print(classification_report(test_labels, predictions))\n"
      ]
    },
    {
      "cell_type": "code",
      "source": [
        "#Logistic_Regression_with Word2Vec\n",
        "import pandas as pd\n",
        "import numpy as np\n",
        "from gensim.models import Word2Vec\n",
        "from sklearn.model_selection import train_test_split\n",
        "from sklearn.linear_model import LogisticRegression\n",
        "from sklearn.metrics import accuracy_score, classification_report\n",
        "from nltk.tokenize import word_tokenize\n",
        "import nltk\n",
        "\n",
        "# Download NLTK data\n",
        "nltk.download('punkt')\n",
        "\n",
        "# Load the dataset\n",
        "df = pd.read_excel('/content/myFinalDataset(edited version).xlsx')\n",
        "\n",
        "# Remove rows with NaN labels\n",
        "df = df.dropna(subset=['label'])\n",
        "\n",
        "# Ensure labels are integers\n",
        "df['label'] = df['label'].astype(int)\n",
        "\n",
        "# Extract the texts and labels\n",
        "texts = df['text'].tolist()\n",
        "labels = df['label'].tolist()\n",
        "\n",
        "# Split the dataset into training and test sets\n",
        "train_texts, test_texts, train_labels, test_labels = train_test_split(texts, labels, test_size=0.2, random_state=42)\n",
        "\n",
        "# Tokenize the texts\n",
        "train_tokens = [word_tokenize(text) for text in train_texts]\n",
        "test_tokens = [word_tokenize(text) for text in test_texts]\n",
        "\n",
        "# Train a Word2Vec model\n",
        "w2v_model = Word2Vec(sentences=train_tokens, vector_size=3000, window=50, min_count=1, workers=4)\n",
        "\n",
        "# Generate average Word2Vec embeddings for each text\n",
        "def get_avg_word2vec(tokens_list, model, vector_size):\n",
        "    embeddings = []\n",
        "    for tokens in tokens_list:\n",
        "        valid_tokens = [token for token in tokens if token in model.wv]\n",
        "        if valid_tokens:\n",
        "            embeddings.append(np.mean(model.wv[valid_tokens], axis=0))\n",
        "        else:\n",
        "            embeddings.append(np.zeros(vector_size))\n",
        "    return np.array(embeddings)\n",
        "\n",
        "X_train = get_avg_word2vec(train_tokens, w2v_model, vector_size=100)\n",
        "X_test = get_avg_word2vec(test_tokens, w2v_model, vector_size=100)\n",
        "\n",
        "# Train a Logistic Regression model\n",
        "model = LogisticRegression(max_iter=1000)\n",
        "model.fit(X_train, train_labels)\n",
        "\n",
        "# Evaluate the model\n",
        "predictions = model.predict(X_test)\n",
        "accuracy = accuracy_score(test_labels, predictions)\n",
        "print(f'Accuracy: {accuracy:.4f}')\n",
        "print(classification_report(test_labels, predictions))\n"
      ],
      "metadata": {
        "colab": {
          "base_uri": "https://localhost:8080/"
        },
        "id": "t03QeAuM0yBX",
        "outputId": "3e662a2c-c589-45cc-a0af-ffa137063320"
      },
      "execution_count": null,
      "outputs": [
        {
          "output_type": "stream",
          "name": "stderr",
          "text": [
            "[nltk_data] Downloading package punkt to /root/nltk_data...\n",
            "[nltk_data]   Package punkt is already up-to-date!\n"
          ]
        },
        {
          "output_type": "stream",
          "name": "stdout",
          "text": [
            "Accuracy: 0.4221\n",
            "              precision    recall  f1-score   support\n",
            "\n",
            "           0       0.42      0.78      0.54       492\n",
            "           1       0.92      0.03      0.06       400\n",
            "           2       0.41      0.37      0.39       366\n",
            "\n",
            "    accuracy                           0.42      1258\n",
            "   macro avg       0.58      0.39      0.33      1258\n",
            "weighted avg       0.58      0.42      0.35      1258\n",
            "\n"
          ]
        }
      ]
    },
    {
      "cell_type": "code",
      "source": [
        "#logistic regression with fast text pretrained feature extraction\n",
        "import pandas as pd\n",
        "import numpy as np\n",
        "from gensim.models import KeyedVectors\n",
        "from sklearn.model_selection import train_test_split\n",
        "from sklearn.linear_model import LogisticRegression\n",
        "from sklearn.metrics import accuracy_score, classification_report\n",
        "from nltk.tokenize import word_tokenize\n",
        "import nltk\n",
        "\n",
        "# Download NLTK data\n",
        "nltk.download('punkt')\n",
        "\n",
        "# Load the dataset\n",
        "df = pd.read_excel('/content/myFinalDataset(edited version).xlsx')\n",
        "\n",
        "# Remove rows with NaN labels\n",
        "df = df.dropna(subset=['label'])\n",
        "\n",
        "# Ensure labels are integers\n",
        "df['label'] = df['label'].astype(int)\n",
        "\n",
        "# Extract the texts and labels\n",
        "texts = df['text'].tolist()\n",
        "labels = df['label'].tolist()\n",
        "\n",
        "# Split the dataset into training and test sets\n",
        "train_texts, test_texts, train_labels, test_labels = train_test_split(texts, labels, test_size=0.2, random_state=42)\n",
        "\n",
        "# Tokenize the texts\n",
        "train_tokens = [word_tokenize(text) for text in train_texts]\n",
        "test_tokens = [word_tokenize(text) for text in test_texts]\n",
        "\n",
        "# Download pre-trained FastText embeddings (this is a large file, around 2.4GB)\n",
        "!wget https://dl.fbaipublicfiles.com/fasttext/vectors-crawl/cc.bn.300.vec.gz\n",
        "\n",
        "# Unzip the file\n",
        "!gunzip cc.bn.300.vec.gz\n",
        "\n",
        "# Load pre-trained FastText embeddings\n",
        "fasttext_model_path = 'cc.bn.300.vec'\n",
        "fasttext_model = KeyedVectors.load_word2vec_format(fasttext_model_path, binary=False)\n",
        "\n",
        "\n"
      ],
      "metadata": {
        "colab": {
          "base_uri": "https://localhost:8080/"
        },
        "id": "1Pfw2Sj41dgF",
        "outputId": "623ae0ee-d71e-40d0-c0df-94afcf53aa2d"
      },
      "execution_count": null,
      "outputs": [
        {
          "output_type": "stream",
          "name": "stderr",
          "text": [
            "[nltk_data] Downloading package punkt to /root/nltk_data...\n",
            "[nltk_data]   Package punkt is already up-to-date!\n"
          ]
        },
        {
          "output_type": "stream",
          "name": "stdout",
          "text": [
            "--2024-05-18 17:29:55--  https://dl.fbaipublicfiles.com/fasttext/vectors-crawl/cc.bn.300.vec.gz\n",
            "Resolving dl.fbaipublicfiles.com (dl.fbaipublicfiles.com)... 108.156.201.76, 108.156.201.129, 108.156.201.112, ...\n",
            "Connecting to dl.fbaipublicfiles.com (dl.fbaipublicfiles.com)|108.156.201.76|:443... connected.\n",
            "HTTP request sent, awaiting response... 200 OK\n",
            "Length: 881274182 (840M) [binary/octet-stream]\n",
            "Saving to: ‘cc.bn.300.vec.gz’\n",
            "\n",
            "cc.bn.300.vec.gz    100%[===================>] 840.45M  54.7MB/s    in 13s     \n",
            "\n",
            "2024-05-18 17:30:08 (63.6 MB/s) - ‘cc.bn.300.vec.gz’ saved [881274182/881274182]\n",
            "\n",
            "gzip: cc.bn.300.vec already exists; do you wish to overwrite (y or n)? n\n",
            "\tnot overwritten\n"
          ]
        }
      ]
    },
    {
      "cell_type": "code",
      "source": [
        "# Generate average FastText embeddings for each text\n",
        "def get_avg_fasttext(tokens_list, model, vector_size=500):\n",
        "    embeddings = []\n",
        "    for tokens in tokens_list:\n",
        "        valid_tokens = [token for token in tokens if token in model]\n",
        "        if valid_tokens:\n",
        "            embeddings.append(np.mean(model[valid_tokens], axis=0))\n",
        "        else:\n",
        "            embeddings.append(np.zeros(vector_size))\n",
        "    return np.array(embeddings)\n",
        "\n",
        "X_train = get_avg_fasttext(train_tokens, fasttext_model)\n",
        "X_test = get_avg_fasttext(test_tokens, fasttext_model)\n",
        "\n",
        "# Train a Logistic Regression model\n",
        "model = LogisticRegression(max_iter=1000)\n",
        "model.fit(X_train, train_labels)\n",
        "\n",
        "# Evaluate the model\n",
        "predictions = model.predict(X_test)\n",
        "accuracy = accuracy_score(test_labels, predictions)\n",
        "print(f'Accuracy: {accuracy:.4f}')\n",
        "print(classification_report(test_labels, predictions))"
      ],
      "metadata": {
        "colab": {
          "base_uri": "https://localhost:8080/"
        },
        "id": "gzGsZH7zwFGb",
        "outputId": "d338d3b5-d57d-4c96-86da-61944c817284"
      },
      "execution_count": null,
      "outputs": [
        {
          "output_type": "stream",
          "name": "stdout",
          "text": [
            "Accuracy: 0.7623\n",
            "              precision    recall  f1-score   support\n",
            "\n",
            "           0       0.71      0.82      0.76       492\n",
            "           1       0.82      0.72      0.77       400\n",
            "           2       0.79      0.73      0.76       366\n",
            "\n",
            "    accuracy                           0.76      1258\n",
            "   macro avg       0.77      0.76      0.76      1258\n",
            "weighted avg       0.77      0.76      0.76      1258\n",
            "\n"
          ]
        }
      ]
    }
  ]
}