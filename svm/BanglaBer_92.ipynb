{
  "nbformat": 4,
  "nbformat_minor": 0,
  "metadata": {
    "colab": {
      "provenance": []
    },
    "kernelspec": {
      "name": "python3",
      "display_name": "Python 3"
    },
    "language_info": {
      "name": "python"
    }
  },
  "cells": [
    {
      "cell_type": "code",
      "execution_count": 1,
      "metadata": {
        "colab": {
          "base_uri": "https://localhost:8080/"
        },
        "id": "mlKRIIMWkOsC",
        "outputId": "306e706d-4d68-4f8c-bc25-6c00e9659cf4"
      },
      "outputs": [
        {
          "output_type": "stream",
          "name": "stdout",
          "text": [
            "Accuracy: 0.7671\n",
            "              precision    recall  f1-score   support\n",
            "\n",
            "           0       0.73      0.82      0.77       492\n",
            "           1       0.83      0.74      0.79       400\n",
            "           2       0.75      0.73      0.74       366\n",
            "\n",
            "    accuracy                           0.77      1258\n",
            "   macro avg       0.77      0.76      0.77      1258\n",
            "weighted avg       0.77      0.77      0.77      1258\n",
            "\n"
          ]
        }
      ],
      "source": [
        "#svm without punctuation and stop word removal\n",
        "import pandas as pd\n",
        "from sklearn.feature_extraction.text import TfidfVectorizer\n",
        "from sklearn.model_selection import train_test_split\n",
        "from sklearn.svm import SVC\n",
        "from sklearn.metrics import accuracy_score, classification_report\n",
        "\n",
        "# Load the dataset\n",
        "df = pd.read_excel('/content/myFinalDataset(edited version).xlsx')\n",
        "\n",
        "# Remove rows with NaN labels\n",
        "df = df.dropna(subset=['label'])\n",
        "\n",
        "# Ensure labels are integers\n",
        "df['label'] = df['label'].astype(int)\n",
        "\n",
        "# Extract the texts and labels\n",
        "texts = df['text'].tolist()\n",
        "labels = df['label'].tolist()\n",
        "\n",
        "# Split the dataset into training and test sets\n",
        "train_texts, test_texts, train_labels, test_labels = train_test_split(texts, labels, test_size=0.2, random_state=42)\n",
        "\n",
        "# Vectorize the texts using TF-IDF\n",
        "vectorizer = TfidfVectorizer(max_features=5000)\n",
        "X_train = vectorizer.fit_transform(train_texts)\n",
        "X_test = vectorizer.transform(test_texts)\n",
        "\n",
        "# Train an SVM model\n",
        "model = SVC(kernel='linear', C=1.0)  # Using a linear kernel\n",
        "model.fit(X_train, train_labels)\n",
        "\n",
        "# Evaluate the model\n",
        "predictions = model.predict(X_test)\n",
        "accuracy = accuracy_score(test_labels, predictions)\n",
        "print(f'Accuracy: {accuracy:.4f}')\n",
        "print(classification_report(test_labels, predictions))\n"
      ]
    },
    {
      "cell_type": "code",
      "source": [
        "import pandas as pd\n",
        "import re\n",
        "from sklearn.feature_extraction.text import TfidfVectorizer\n",
        "from sklearn.model_selection import train_test_split\n",
        "from sklearn.svm import SVC\n",
        "from sklearn.metrics import accuracy_score, classification_report\n",
        "\n",
        "# Load the dataset\n",
        "df = pd.read_excel('/content/myFinalDataset(edited version).xlsx')\n",
        "\n",
        "# Remove rows with NaN labels\n",
        "df = df.dropna(subset=['label'])\n",
        "\n",
        "# Ensure labels are integers\n",
        "df['label'] = df['label'].astype(int)\n",
        "\n",
        "# Define Bengali stop words\n",
        "bengali_stop_words = {'আমি', 'তুমি', 'সে', 'আমাদের', 'তোমাদের', 'করে', 'তা', 'কিছু', 'কিছুই', 'এই', 'যে', 'এক',\n",
        "                      'এটা', 'এ', 'হয়', 'কি', 'ও', 'এবং', 'করতে', 'হয়ে', 'থেকে', 'হয়েছে', 'হয়েছিল', 'থাকে',\n",
        "                      'থাকা', 'যায়', 'যা', 'নিয়ে', 'না', 'বলে', 'এমন', 'করা', 'জন্য', 'মাধ্যমে', 'কিন্তু', 'আপনি', 'আমার', 'তার', 'এখন',\n",
        "                      'সঙ্গে', 'তারা', 'করছে', 'এইটা', 'তাদের', 'সেটা', 'সম্পর্কে', 'হতে', 'যেতে', 'সেখান', 'সেটি', 'তারেকে', 'এইচেসে', 'করবেন',\n",
        "                      'অন্য', 'অন্যান্য', 'বার', 'বা', 'প্রায়', 'আবার', 'আগে', 'এস', 'আগেই', 'যেমন', 'হলে', 'এটি', 'মাত্র', 'কিছুদিন', 'তাহলে',\n",
        "                      'সেও', 'কেউ', 'মোটামুটি', 'হলো', 'জানা', 'হচ্ছে', 'সব', 'আসে', 'কয়েক', 'বেশি', 'সমস্ত', 'মোটেই', 'যান', 'সহ', 'তিনি',\n",
        "                      'অথবা', 'যদি', 'দিয়ে', 'আবার', 'পারে', 'কারণ', 'কম', 'হল', 'হলেও', 'কেন', 'বাংলা', 'এখানে', 'কোনো', 'পরে', 'গেল',\n",
        "                      'সেই', 'দেখা', 'হয়েছে', 'হলেই', 'এসে', 'বিশেষ', 'ওঁরা', 'করি', 'মোট', 'হতেই', 'চেয়ে', 'সম্প্রতি',\n",
        "}\n",
        "\n",
        "# Preprocess the text data\n",
        "def preprocess_text(text):\n",
        "    # Remove non-Bengali characters and numbers\n",
        "    text = re.sub(r'[^\\u0980-\\u09FF\\s]', '', text)\n",
        "\n",
        "    # Remove punctuation\n",
        "    text = re.sub(r'[^\\w\\s]', '', text)\n",
        "\n",
        "    # Tokenize the text using space\n",
        "    tokens = text.split()\n",
        "\n",
        "    # Remove stop words\n",
        "    tokens = [word for word in tokens if word not in bengali_stop_words]\n",
        "\n",
        "    # Join the tokens back into text\n",
        "    text = ' '.join(tokens)\n",
        "\n",
        "    return text\n",
        "\n",
        "df['text'] = df['text'].apply(preprocess_text)\n",
        "\n",
        "# Extract the texts and labels\n",
        "texts = df['text'].tolist()\n",
        "labels = df['label'].tolist()\n",
        "\n",
        "# Split the dataset into training and test sets\n",
        "train_texts, test_texts, train_labels, test_labels = train_test_split(texts, labels, test_size=0.2, random_state=42)\n",
        "\n",
        "# Vectorize the texts using TF-IDF\n",
        "vectorizer = TfidfVectorizer(max_features=5000)\n",
        "X_train = vectorizer.fit_transform(train_texts)\n",
        "X_test = vectorizer.transform(test_texts)\n",
        "\n",
        "# Train an SVM model\n",
        "model = SVC(kernel='linear', C=1.0)  # Using a linear kernel\n",
        "model.fit(X_train, train_labels)\n",
        "\n",
        "# Evaluate the model\n",
        "predictions = model.predict(X_test)\n",
        "accuracy = accuracy_score(test_labels, predictions)\n",
        "print(f'Accuracy: {accuracy:.4f}')\n",
        "print(classification_report(test_labels, predictions))\n"
      ],
      "metadata": {
        "colab": {
          "base_uri": "https://localhost:8080/"
        },
        "collapsed": true,
        "id": "zpfTByP9mzcU",
        "outputId": "f40298f7-6f5d-474a-d16c-e28322c6c4fa"
      },
      "execution_count": 9,
      "outputs": [
        {
          "output_type": "stream",
          "name": "stdout",
          "text": [
            "Accuracy: 0.8680\n",
            "              precision    recall  f1-score   support\n",
            "\n",
            "           0       0.83      0.90      0.86       492\n",
            "           1       0.91      0.87      0.89       400\n",
            "           2       0.88      0.83      0.85       366\n",
            "\n",
            "    accuracy                           0.87      1258\n",
            "   macro avg       0.87      0.86      0.87      1258\n",
            "weighted avg       0.87      0.87      0.87      1258\n",
            "\n"
          ]
        }
      ]
    }
  ]
}