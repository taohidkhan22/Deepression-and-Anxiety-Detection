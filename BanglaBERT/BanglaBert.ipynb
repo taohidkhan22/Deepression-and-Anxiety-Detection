{
  "nbformat": 4,
  "nbformat_minor": 0,
  "metadata": {
    "colab": {
      "provenance": [],
      "gpuType": "T4"
    },
    "kernelspec": {
      "name": "python3",
      "display_name": "Python 3"
    },
    "language_info": {
      "name": "python"
    },
    "accelerator": "GPU"
  },
  "cells": [
    {
      "cell_type": "code",
      "source": [
        "import torch\n",
        "from torch.utils.data import DataLoader, TensorDataset\n",
        "from transformers import AdamW, get_linear_schedule_with_warmup\n",
        "from sklearn.metrics import accuracy_score\n",
        "from transformers import AutoTokenizer, AutoModelForSequenceClassification\n",
        "import pandas as pd\n",
        "from sklearn.model_selection import train_test_split"
      ],
      "metadata": {
        "id": "5sjHFliDpe0B"
      },
      "execution_count": 27,
      "outputs": []
    },
    {
      "cell_type": "code",
      "source": [
        "import pandas as pd\n",
        "\n",
        "# Load the dataset\n",
        "df = pd.read_excel('/content/myFinalDataset(edited version).xlsx')\n",
        "\n",
        "# Check the unique values in the 'label' column\n",
        "print(\"Unique labels:\", df['label'].unique())\n",
        "\n",
        "# Ensure all labels are valid integers\n",
        "df['label'] = pd.to_numeric(df['label'], errors='coerce')\n",
        "print(\"Labels after coercion to numeric:\", df['label'].unique())\n",
        "\n",
        "# Drop rows with invalid labels\n",
        "df = df.dropna(subset=['label'])\n",
        "df['label'] = df['label'].astype(int)\n",
        "print(\"Labels after dropping NaNs and conversion to int:\", df['label'].unique())\n"
      ],
      "metadata": {
        "colab": {
          "base_uri": "https://localhost:8080/"
        },
        "id": "1Z41i2kRpi7o",
        "outputId": "a191c08e-a3ef-41eb-84b5-1d5d03b0b153"
      },
      "execution_count": 28,
      "outputs": [
        {
          "output_type": "stream",
          "name": "stdout",
          "text": [
            "Unique labels: [ 2.  0.  1. nan]\n",
            "Labels after coercion to numeric: [ 2.  0.  1. nan]\n",
            "Labels after dropping NaNs and conversion to int: [2 0 1]\n"
          ]
        }
      ]
    },
    {
      "cell_type": "code",
      "source": [
        "import torch\n",
        "from torch.utils.data import DataLoader, TensorDataset\n",
        "from transformers import AdamW, get_linear_schedule_with_warmup\n",
        "from sklearn.metrics import accuracy_score\n",
        "from transformers import AutoTokenizer, AutoModelForSequenceClassification\n",
        "from sklearn.model_selection import train_test_split\n",
        "\n",
        "# Split the dataset into training and test sets\n",
        "train_df, test_df = train_test_split(df, test_size=0.2, random_state=42)\n",
        "\n",
        "# Extract the texts and labels\n",
        "train_texts = train_df['text'].tolist()\n",
        "train_labels = train_df['label'].tolist()\n",
        "test_texts = test_df['text'].tolist()\n",
        "test_labels = test_df['label'].tolist()\n",
        "\n",
        "# Load the tokenizer and model\n",
        "tokenizer = AutoTokenizer.from_pretrained(\"sagorsarker/bangla-bert-base\")\n",
        "model = AutoModelForSequenceClassification.from_pretrained(\"sagorsarker/bangla-bert-base\", num_labels=3)\n",
        "\n",
        "# Tokenize the texts\n",
        "def tokenize_texts(texts, labels, tokenizer, max_len=128):\n",
        "    input_ids = []\n",
        "    attention_masks = []\n",
        "    for text in texts:\n",
        "        encoded = tokenizer.encode_plus(\n",
        "            text,\n",
        "            add_special_tokens=True,\n",
        "            max_length=max_len,\n",
        "            padding='max_length',\n",
        "            truncation=True,\n",
        "            return_attention_mask=True,\n",
        "            return_tensors='pt'\n",
        "        )\n",
        "        input_ids.append(encoded['input_ids'])\n",
        "        attention_masks.append(encoded['attention_mask'])\n",
        "\n",
        "    input_ids = torch.cat(input_ids, dim=0)\n",
        "    attention_masks = torch.cat(attention_masks, dim=0)\n",
        "    labels = torch.tensor(labels, dtype=torch.long)  # Ensure labels are of type torch.long\n",
        "    return TensorDataset(input_ids, attention_masks, labels)\n",
        "\n",
        "# Create DataLoader\n",
        "train_dataset = tokenize_texts(train_texts, train_labels, tokenizer)\n",
        "test_dataset = tokenize_texts(test_texts, test_labels, tokenizer)\n",
        "\n",
        "batch_size = 64\n",
        "train_dataloader = DataLoader(train_dataset, batch_size=batch_size, shuffle=True)\n",
        "test_dataloader = DataLoader(test_dataset, batch_size=batch_size, shuffle=False)\n",
        "\n",
        "# Define training parameters\n",
        "epochs = 10\n",
        "#optimizer = AdamW(model.parameters(), lr=2e-5, eps=1e-8)\n",
        "optimizer = AdamW(model.parameters(), lr=1e-5, eps=1e-8)\n",
        "\n",
        "total_steps = len(train_dataloader) * epochs\n",
        "scheduler = get_linear_schedule_with_warmup(optimizer, num_warmup_steps=0, num_training_steps=total_steps)\n"
      ],
      "metadata": {
        "colab": {
          "base_uri": "https://localhost:8080/"
        },
        "id": "TlXNK2JjqGt5",
        "outputId": "f2cc3441-c2e2-4416-abaf-0c3b5372407b"
      },
      "execution_count": 32,
      "outputs": [
        {
          "output_type": "stream",
          "name": "stderr",
          "text": [
            "Some weights of BertForSequenceClassification were not initialized from the model checkpoint at sagorsarker/bangla-bert-base and are newly initialized: ['classifier.bias', 'classifier.weight']\n",
            "You should probably TRAIN this model on a down-stream task to be able to use it for predictions and inference.\n",
            "/usr/local/lib/python3.10/dist-packages/transformers/optimization.py:521: FutureWarning: This implementation of AdamW is deprecated and will be removed in a future version. Use the PyTorch implementation torch.optim.AdamW instead, or set `no_deprecation_warning=True` to disable this warning\n",
            "  warnings.warn(\n"
          ]
        }
      ]
    },
    {
      "cell_type": "code",
      "source": [
        "# Training function\n",
        "def train(model, dataloader, optimizer, scheduler, device):\n",
        "    model.train()\n",
        "    total_loss = 0\n",
        "    for batch in dataloader:\n",
        "        b_input_ids, b_input_mask, b_labels = batch\n",
        "        b_input_ids = b_input_ids.to(device)\n",
        "        b_input_mask = b_input_mask.to(device)\n",
        "        b_labels = b_labels.to(device)\n",
        "\n",
        "        model.zero_grad()\n",
        "        outputs = model(b_input_ids, token_type_ids=None, attention_mask=b_input_mask)\n",
        "        logits = outputs.logits\n",
        "        loss_fn = torch.nn.CrossEntropyLoss()\n",
        "        loss = loss_fn(logits, b_labels)\n",
        "        total_loss += loss.item()\n",
        "\n",
        "        loss.backward()\n",
        "        optimizer.step()\n",
        "        scheduler.step()\n",
        "\n",
        "    avg_train_loss = total_loss / len(dataloader)\n",
        "    return avg_train_loss\n",
        "\n",
        "# Evaluation function\n",
        "def evaluate(model, dataloader, device):\n",
        "    model.eval()\n",
        "    preds, true_labels = [], []\n",
        "    with torch.no_grad():\n",
        "        for batch in dataloader:\n",
        "            b_input_ids, b_input_mask, b_labels = batch\n",
        "            b_input_ids = b_input_ids.to(device)\n",
        "            b_input_mask = b_input_mask.to(device)\n",
        "            b_labels = b_labels.to(device)\n",
        "\n",
        "            outputs = model(b_input_ids, token_type_ids=None, attention_mask=b_input_mask)\n",
        "            logits = outputs.logits\n",
        "            preds.extend(torch.argmax(logits, dim=1).cpu().numpy())\n",
        "            true_labels.extend(b_labels.cpu().numpy())\n",
        "\n",
        "    accuracy = accuracy_score(true_labels, preds)\n",
        "    return accuracy\n",
        "\n",
        "# Train and evaluate the model\n",
        "device = torch.device(\"cuda\" if torch.cuda.is_available() else \"cpu\")\n",
        "model.to(device)\n",
        "\n",
        "for epoch in range(epochs):\n",
        "    train_loss = train(model, train_dataloader, optimizer, scheduler, device)\n",
        "    test_accuracy = evaluate(model, test_dataloader, device)\n",
        "    print(f\"Epoch {epoch+1}/{epochs}\")\n",
        "    print(f\"Train Loss: {train_loss:.4f}\")\n",
        "    print(f\"Test Accuracy: {test_accuracy:.4f}\")\n"
      ],
      "metadata": {
        "colab": {
          "base_uri": "https://localhost:8080/"
        },
        "id": "VETh2umFqK3I",
        "outputId": "5d3d55e0-daa5-4e42-b536-b645eea9bd18"
      },
      "execution_count": 33,
      "outputs": [
        {
          "output_type": "stream",
          "name": "stdout",
          "text": [
            "Epoch 1/10\n",
            "Train Loss: 0.8281\n",
            "Test Accuracy: 0.7615\n",
            "Epoch 2/10\n",
            "Train Loss: 0.5018\n",
            "Test Accuracy: 0.8331\n",
            "Epoch 3/10\n",
            "Train Loss: 0.3250\n",
            "Test Accuracy: 0.8672\n",
            "Epoch 4/10\n",
            "Train Loss: 0.1986\n",
            "Test Accuracy: 0.9030\n",
            "Epoch 5/10\n",
            "Train Loss: 0.1274\n",
            "Test Accuracy: 0.9237\n",
            "Epoch 6/10\n",
            "Train Loss: 0.0849\n",
            "Test Accuracy: 0.9308\n",
            "Epoch 7/10\n",
            "Train Loss: 0.0657\n",
            "Test Accuracy: 0.9436\n",
            "Epoch 8/10\n",
            "Train Loss: 0.0515\n",
            "Test Accuracy: 0.9459\n",
            "Epoch 9/10\n",
            "Train Loss: 0.0438\n",
            "Test Accuracy: 0.9459\n",
            "Epoch 10/10\n",
            "Train Loss: 0.0395\n",
            "Test Accuracy: 0.9420\n"
          ]
        }
      ]
    },
    {
      "cell_type": "code",
      "source": [
        "print(f\"Final Test Accuracy: {test_accuracy:.4f}\")"
      ],
      "metadata": {
        "colab": {
          "base_uri": "https://localhost:8080/"
        },
        "id": "h0w8DCmRsdQX",
        "outputId": "4954d08f-7186-4513-d22a-196c0b79b85e"
      },
      "execution_count": 34,
      "outputs": [
        {
          "output_type": "stream",
          "name": "stdout",
          "text": [
            "Final Test Accuracy: 0.9420\n"
          ]
        }
      ]
    },
    {
      "cell_type": "code",
      "source": [
        "from collections import defaultdict\n",
        "\n",
        "# Evaluation function for class-wise accuracy\n",
        "def evaluate_classwise(model, dataloader, device, num_classes):\n",
        "    model.eval()\n",
        "    class_correct = defaultdict(int)\n",
        "    class_total = defaultdict(int)\n",
        "    with torch.no_grad():\n",
        "        for batch in dataloader:\n",
        "            b_input_ids, b_input_mask, b_labels = batch\n",
        "            b_input_ids = b_input_ids.to(device)\n",
        "            b_input_mask = b_input_mask.to(device)\n",
        "            b_labels = b_labels.to(device)\n",
        "\n",
        "            outputs = model(b_input_ids, token_type_ids=None, attention_mask=b_input_mask)\n",
        "            logits = outputs.logits\n",
        "            preds = torch.argmax(logits, dim=1)\n",
        "            for i in range(len(preds)):\n",
        "                class_label = b_labels[i].item()\n",
        "                class_correct[class_label] += int(preds[i] == b_labels[i])\n",
        "                class_total[class_label] += 1\n",
        "\n",
        "    class_accuracy = {class_label: class_correct[class_label] / class_total[class_label] for class_label in range(num_classes)}\n",
        "    return class_accuracy\n",
        "\n",
        "# Calculate the number of classes\n",
        "num_classes = 3  # Assuming there are 3 classes\n",
        "\n",
        "# Evaluate the model for class-wise accuracy\n",
        "class_accuracy = evaluate_classwise(model, test_dataloader, device, num_classes)\n",
        "\n",
        "# Print the final accuracy of each class\n",
        "for class_label, accuracy in class_accuracy.items():\n",
        "    print(f\"Class {class_label} Test Accuracy: {accuracy:.4f}\")\n"
      ],
      "metadata": {
        "colab": {
          "base_uri": "https://localhost:8080/"
        },
        "id": "33zToSxNzKcE",
        "outputId": "63a4163a-491f-477e-8c92-e199c1ec2479"
      },
      "execution_count": 35,
      "outputs": [
        {
          "output_type": "stream",
          "name": "stdout",
          "text": [
            "Class 0 Test Accuracy: 0.9451\n",
            "Class 1 Test Accuracy: 0.9525\n",
            "Class 2 Test Accuracy: 0.9262\n"
          ]
        }
      ]
    },
    {
      "cell_type": "code",
      "source": [
        "import matplotlib.pyplot as plt\n",
        "\n",
        "# Class names dictionary\n",
        "class_names = {0: 'Depression', 1: 'Anxiety', 2: 'Neutral'}\n",
        "\n",
        "# Colors for each class\n",
        "colors = ['royalblue', 'limegreen', 'orange']\n",
        "\n",
        "# Evaluate the model for class-wise accuracy\n",
        "class_accuracy = evaluate_classwise(model, test_dataloader, device, num_classes)\n",
        "\n",
        "# Extract class labels and accuracies\n",
        "class_labels = list(class_accuracy.keys())\n",
        "accuracies = list(class_accuracy.values())\n",
        "\n",
        "# Plot the bar graph\n",
        "plt.figure(figsize=(8, 6))\n",
        "bars = plt.bar(class_labels, accuracies, color=colors, width=0.6)  # Set colors for bars\n",
        "plt.xlabel('Class', fontsize=14)\n",
        "plt.ylabel('Accuracy', fontsize=14)\n",
        "plt.title('Each Class Accuracy for BanglaBERT', fontsize=16)\n",
        "\n",
        "# Add legend for the three classes\n",
        "legend_labels = [class_names[label] for label in class_labels]\n",
        "plt.legend(bars, legend_labels, loc='lower left')  # Place legend in lower left\n",
        "\n",
        "# Label each bar with the class name and accuracy\n",
        "for bar, label, accuracy, color in zip(bars, class_labels, accuracies, colors):\n",
        "    height = bar.get_height()\n",
        "    #plt.text(bar.get_x() + bar.get_width() / 2, height, class_names[label], ha='center', va='bottom', color=color)\n",
        "    plt.text(bar.get_x() + bar.get_width() /2, height+0.01, f\"{class_names[label]}: {accuracy:.2f}\", ha='center', va='bottom', color='black')\n",
        "   # plt.text(bar.get_x() + bar.get_width() / 2, height + 0.02, f\"{accuracy:.4f}\", ha='center', va='bottom', color='black')\n",
        "\n",
        "plt.xticks(class_labels)  # Set x-axis ticks to class labels\n",
        "plt.ylim(0, 1)  # Set y-axis limit from 0 to 1\n",
        "plt.grid(axis='y', linestyle='--', alpha=0.7)\n",
        "plt.show()\n"
      ],
      "metadata": {
        "colab": {
          "base_uri": "https://localhost:8080/",
          "height": 571
        },
        "id": "ipmoxZCBzaYk",
        "outputId": "442a5bd0-7702-46bf-ffba-0842bd40af7a"
      },
      "execution_count": 50,
      "outputs": [
        {
          "output_type": "display_data",
          "data": {
            "text/plain": [
              "<Figure size 800x600 with 1 Axes>"
            ],
            "image/png": "[encoded data removed]"
          },
          "metadata": {}
        }
      ]
    }
  ]
}